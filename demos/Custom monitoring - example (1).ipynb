{
 "cells": [
  {
   "cell_type": "markdown",
   "metadata": {},
   "source": [
    "# Custom model monitoring"
   ]
  },
  {
   "cell_type": "markdown",
   "metadata": {},
   "source": [
    "Configure the client."
   ]
  },
  {
   "cell_type": "code",
   "execution_count": 1,
   "metadata": {},
   "outputs": [],
   "source": [
    "from verta import Client\n",
    "\n",
    "VERTA_HOST = \"https://demo.dev.verta.ai\"\n",
    "client = Client(VERTA_HOST)"
   ]
  },
  {
   "cell_type": "markdown",
   "metadata": {},
   "source": [
    "Create a custom monitor that is a mix of pre-existing histograms and a customization of the functionality."
   ]
  },
  {
   "cell_type": "code",
   "execution_count": 2,
   "metadata": {},
   "outputs": [],
   "source": [
    "# Assumptions: there is a single monitor and it tracks multiple different monitoring metrics\n"
   ]
  },
  {
   "cell_type": "code",
   "execution_count": 3,
   "metadata": {},
   "outputs": [],
   "source": [
    "# In the voiceover, start with the code cell showing how to attach to endpoint \n",
    "# and then get into the monitor definition\n",
    "\n",
    "# this is written in the order of how I would demo vs. how cells can actually execute"
   ]
  },
  {
   "cell_type": "code",
   "execution_count": 4,
   "metadata": {},
   "outputs": [],
   "source": [
    "endpoint = client.get_endpoint(\"/census\") # get a deployed model\n",
    "\n",
    "monitor = MyModelMonitor() # define a monitor with custom statistics and metrics to monitor\n",
    "monitor.add_processor(MissingCountProcessor())\n",
    "monitor.add_processor(FeatureHistogramProcessor())\n",
    "monitor.initialize(df_train)\n",
    "\n",
    "endpoint.set_monitoring(monitor) # attach the monitor to the endpoint"
   ]
  },
  {
   "cell_type": "code",
   "execution_count": 5,
   "metadata": {},
   "outputs": [],
   "source": [
    "class Monitor:\n",
    "    def __init__(self):\n",
    "        self.processors = []\n",
    "        \n",
    "    def add_processor(self, processor):\n",
    "        self.processors.append(processor)\n",
    "        \n",
    "    def initialize(self, df):\n",
    "        for processor in self.processors:\n",
    "            processor.initialize(df)\n",
    "        \n",
    "    def process(self, inputs, outputs):\n",
    "        for processor in self.processors:\n",
    "            processor.process(inputs, outputs)"
   ]
  },
  {
   "cell_type": "code",
   "execution_count": 6,
   "metadata": {},
   "outputs": [],
   "source": [
    "import pandas as pd\n",
    "from verta.monitoring import FeatureHistogramProcessor, BinaryHistogram, Histogram, Monitor\n",
    "\n",
    "class MissingCountProcessor(Processor):\n",
    "    def __init__(self, df):\n",
    "        super(Processor, self).__init__(df)\n",
    "        \n",
    "        # Collect information about current features to create a metric for missing features\n",
    "        self.missing_features = {}\n",
    "        for column, vals in df.iteritems():\n",
    "            missing = vals.isnull().sum()\n",
    "            present = vals.shape[0] - missing\n",
    "            self.missing_features[column] = BinaryHistogram(name=\"missing_\"+column, reference=[present, missing])\n",
    "            self.register(self.missing_features[column])\n",
    "            \n",
    "    def process(self, inputs, outputs):\n",
    "        inputs = pd.DataFrame.from_dict(inputs, orient=\"columns\")\n",
    "        outputs = pd.DataFrame.from_dict(outputs, orient=\"columns\")\n",
    "        values = inputs.join(outputs)\n",
    "        \n",
    "        # Update the metric of missing features\n",
    "        for feature, hist in self.missing_features.items():\n",
    "            for val in values[feature].isnull().tolist():\n",
    "                hist.observe(val)"
   ]
  },
  {
   "cell_type": "code",
   "execution_count": 7,
   "metadata": {},
   "outputs": [],
   "source": []
  }
 ],
 "metadata": {
  "kernelspec": {
   "display_name": "Python 3",
   "language": "python",
   "name": "python3"
  },
  "language_info": {
   "codemirror_mode": {
    "name": "ipython",
    "version": 3
   },
   "file_extension": ".py",
   "mimetype": "text/x-python",
   "name": "python",
   "nbconvert_exporter": "python",
   "pygments_lexer": "ipython3",
   "version": "3.7.7"
  }
 },
 "nbformat": 4,
 "nbformat_minor": 4
}
