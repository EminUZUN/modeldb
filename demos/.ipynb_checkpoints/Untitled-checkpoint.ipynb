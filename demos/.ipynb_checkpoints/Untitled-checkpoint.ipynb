{
 "cells": [
  {
   "cell_type": "code",
   "execution_count": null,
   "metadata": {},
   "outputs": [],
   "source": [
    "from verta import Client\n",
    "from verta.endpoint.resources import Resources\n",
    "from verta.endpoint.autoscaling import Autoscaling\n",
    "\n",
    "\n",
    "client = Client(\"https://dev.verta.ai\")\n",
    "\n",
    "run = client.get_experiment_run(id=\"09474ecc-ecb7-48df-9ecb-7907f136cbb6\")\n",
    "\n",
    "endpoint = client.create_endpoint(\"/example\", workspace=\"conrado-verta\")\n",
    "endpoint.update(\n",
    "    run,\n",
    "    resources=Resources(cpu=1, memory=\"2G\"),  # https://docs.verta.ai/en/master/api/api/endpoint_resources.html\n",
    "    autoscaling=Autoscaling(max_replicas=10, max_scale=2),  # https://docs.verta.ai/en/master/api/api/endpoint_autoscaling.html\n",
    "    wait=True,\n"
   ]
  }
 ],
 "metadata": {
  "kernelspec": {
   "display_name": "Python 3",
   "language": "python",
   "name": "python3"
  },
  "language_info": {
   "codemirror_mode": {
    "name": "ipython",
    "version": 3
   },
   "file_extension": ".py",
   "mimetype": "text/x-python",
   "name": "python",
   "nbconvert_exporter": "python",
   "pygments_lexer": "ipython3",
   "version": "3.7.7"
  }
 },
 "nbformat": 4,
 "nbformat_minor": 4
}
