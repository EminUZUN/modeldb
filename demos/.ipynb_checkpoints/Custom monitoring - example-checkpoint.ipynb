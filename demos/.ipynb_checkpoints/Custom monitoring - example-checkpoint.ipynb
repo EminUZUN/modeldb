{
 "cells": [
  {
   "cell_type": "markdown",
   "metadata": {},
   "source": [
    "# Custom model monitoring"
   ]
  },
  {
   "cell_type": "markdown",
   "metadata": {},
   "source": [
    "Configure the client."
   ]
  },
  {
   "cell_type": "code",
   "execution_count": 1,
   "metadata": {},
   "outputs": [],
   "source": [
    "from verta import Client\n",
    "\n",
    "VERTA_HOST = \"https://demo.dev.verta.ai\"\n",
    "client = Client(VERTA_HOST)"
   ]
  },
  {
   "cell_type": "markdown",
   "metadata": {},
   "source": [
    "Create a custom monitor that is a mix of pre-existing histograms and a customization of the functionality."
   ]
  },
  {
   "cell_type": "code",
   "execution_count": 2,
   "metadata": {},
   "outputs": [],
   "source": [
    "import pandas as pd\n",
    "from verta.monitoring import BinaryHistogram, Histogram, Monitor\n",
    "\n",
    "class CustomMonitor(Monitor):\n",
    "    def __init__(self, df):\n",
    "        super(CustomMonitor, self).__init__()\n",
    "        \n",
    "        self.feature_histograms = Histogram.from_dataframe(df)\n",
    "        self.register(self.feature_histograms)\n",
    "        \n",
    "        # Collect information about current features to create a metric for missing features\n",
    "        self.missing_features = {}\n",
    "        for column, vals in df.iteritems():\n",
    "            missing = vals.isnull().sum()\n",
    "            present = vals.shape[0] - missing\n",
    "            self.missing_features[column] = BinaryHistogram(name=\"missing_\"+column, reference=[present, missing])\n",
    "            self.register(self.missing_features[column])\n",
    "            \n",
    "    def process(self, inputs, outputs):\n",
    "        inputs = pd.DataFrame.from_dict(inputs, orient=\"columns\")\n",
    "        outputs = pd.DataFrame.from_dict(outputs, orient=\"columns\")\n",
    "        values = inputs.join(outputs)\n",
    "        \n",
    "        # Use the default histogram behavior to update\n",
    "        self.feature_histograms.observe(values)\n",
    "        \n",
    "        # Update the metric of missing features\n",
    "        for feature, hist in self.missing_features.items():\n",
    "            for val in values[feature].isnull().tolist():\n",
    "                hist.observe(val)"
   ]
  },
  {
   "cell_type": "markdown",
   "metadata": {},
   "source": [
    "Register the monitor and attach it to a given endpoint for monitoring."
   ]
  },
  {
   "cell_type": "code",
   "execution_count": 3,
   "metadata": {},
   "outputs": [],
   "source": [
    "endpoint = client.get_or_create_endpoint(\"/census\")\n",
    "monitor = CustomMonitor(df_train)\n",
    "monitor = client.register_monitor(monitor)\n",
    "endpoint.set_monitoring(monitor)"
   ]
  },
  {
   "cell_type": "code",
   "execution_count": null,
   "metadata": {},
   "outputs": [],
   "source": []
  }
 ],
 "metadata": {
  "kernelspec": {
   "display_name": "Python 3",
   "language": "python",
   "name": "python3"
  },
  "language_info": {
   "codemirror_mode": {
    "name": "ipython",
    "version": 3
   },
   "file_extension": ".py",
   "mimetype": "text/x-python",
   "name": "python",
   "nbconvert_exporter": "python",
   "pygments_lexer": "ipython3",
   "version": "3.7.7"
  }
 },
 "nbformat": 4,
 "nbformat_minor": 4
}
