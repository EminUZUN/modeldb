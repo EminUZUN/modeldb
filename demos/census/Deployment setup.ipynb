{
 "cells": [
  {
   "cell_type": "code",
   "execution_count": 1,
   "metadata": {},
   "outputs": [
    {
     "name": "stdout",
     "output_type": "stream",
     "text": [
      "set email from environment\n",
      "set developer key from environment\n",
      "connection successfully established\n"
     ]
    }
   ],
   "source": [
    "from verta import Client\n",
    "from verta.utils import ModelAPI\n",
    "\n",
    "VERTA_HOST = \"https://cm.dev.verta.ai\"\n",
    "\n",
    "client = Client(VERTA_HOST)"
   ]
  },
  {
   "cell_type": "code",
   "execution_count": 2,
   "metadata": {
    "scrolled": false
   },
   "outputs": [
    {
     "name": "stdout",
     "output_type": "stream",
     "text": [
      "got existing Project: Census Income S3\n",
      "got existing Experiment: Linear regression\n",
      "1415aa21-bd13-4bd2-8021-172d751c3312\n"
     ]
    }
   ],
   "source": [
    "project = client.set_project(name=\"Census Income S3\")\n",
    "experiment = client.set_experiment(name=\"Linear regression\")"
   ]
  },
  {
   "cell_type": "code",
   "execution_count": 10,
   "metadata": {},
   "outputs": [
    {
     "name": "stdout",
     "output_type": "stream",
     "text": [
      "created new ExperimentRun: Run 772491604910562966193\n",
      "set existing Dataset: Census Income S3 from personal workspace\n",
      "got existing dataset version: d5a01a87188b0a2884466a51aa2e721a4a13d7f3629a4a8e76f92f6ebc82d8ee\n",
      "{'C': 1e-06, 'solver': 'lbfgs', 'max_iter': 30, 'balanced': 0} "
     ]
    },
    {
     "name": "stderr",
     "output_type": "stream",
     "text": [
      "/Users/conrado/virtualenv/client/lib/python3.7/site-packages/sklearn/linear_model/logistic.py:758: ConvergenceWarning: lbfgs failed to converge. Increase the number of iterations.\n",
      "  \"of iterations.\", ConvergenceWarning)\n"
     ]
    },
    {
     "name": "stdout",
     "output_type": "stream",
     "text": [
      "Validation accuracy: 0.7919\n",
      "uploading part 1\n",
      "upload complete (requirements.txt)\n",
      "Git repository successfully located at /Users/conrado/workspace/modeldb/\n"
     ]
    }
   ],
   "source": [
    "run = client.set_experiment_run()\n",
    "\n",
    "dataset = client.get_dataset(name=\"Census Income S3\")\n",
    "dataset_version = dataset.get_latest_version()\n",
    "\n",
    "df_train = pd.read_csv(\"census-train.csv\")\n",
    "X_train = df_train.iloc[:,:-1]\n",
    "y_train = df_train.iloc[:, -1]\n",
    "\n",
    "hyperparams = {\n",
    "    'C': 1e-6,\n",
    "    'solver': 'lbfgs',\n",
    "    'max_iter': 30,\n",
    "    'balanced': 0,\n",
    "}\n",
    "\n",
    "# create validation split\n",
    "(X_val_train, X_val_test,\n",
    " y_val_train, y_val_test) = model_selection.train_test_split(X_train, y_train,\n",
    "                                                             test_size=0.2,\n",
    "                                                             shuffle=True)\n",
    "\n",
    "# log hyperparameters\n",
    "run.log_hyperparameters(hyperparams)\n",
    "print(hyperparams, end=' ')\n",
    "hyperparams['class_weight'] = 'balanced' if hyperparams['balanced'] else None\n",
    "del hyperparams['balanced']\n",
    "\n",
    "# create and train model\n",
    "model = linear_model.LogisticRegression(**hyperparams)\n",
    "model.fit(X_train, y_train)\n",
    "\n",
    "# calculate and log validation accuracy\n",
    "train_acc = model.score(X_val_train, y_val_train)\n",
    "run.log_metric(\"train_acc\", train_acc)\n",
    "val_acc = model.score(X_val_test, y_val_test)\n",
    "run.log_metric(\"val_acc\", val_acc)\n",
    "print(\"Validation accuracy: {:.4f}\".format(val_acc))\n",
    "\n",
    "# create deployment artifacts\n",
    "model_api = ModelAPI(X_train, y_train)\n",
    "requirements = [\"scikit-learn\"]\n",
    "\n",
    "# save and log model\n",
    "# run.log_model(model, model_api=model_api)\n",
    "run.log_requirements(requirements)\n",
    "\n",
    "# log dataset snapshot as version\n",
    "run.log_dataset_version(\"train\", dataset_version)\n",
    "\n",
    "# log Git information as code version\n",
    "run.log_code()"
   ]
  },
  {
   "cell_type": "code",
   "execution_count": 17,
   "metadata": {},
   "outputs": [],
   "source": [
    "inputs = ','.join(list(X_train.columns))"
   ]
  },
  {
   "cell_type": "code",
   "execution_count": 22,
   "metadata": {},
   "outputs": [
    {
     "data": {
      "text/plain": [
       "[44,\n",
       " 0,\n",
       " 0,\n",
       " 40,\n",
       " 0,\n",
       " 1,\n",
       " 0,\n",
       " 0,\n",
       " 0,\n",
       " 0,\n",
       " 0,\n",
       " 0,\n",
       " 0,\n",
       " 0,\n",
       " 0,\n",
       " 0,\n",
       " 0,\n",
       " 0,\n",
       " 0,\n",
       " 0,\n",
       " 1,\n",
       " 0,\n",
       " 0,\n",
       " 0,\n",
       " 0,\n",
       " 0,\n",
       " 0,\n",
       " 0,\n",
       " 0,\n",
       " 0,\n",
       " 0,\n",
       " 1,\n",
       " 0,\n",
       " 0,\n",
       " 0,\n",
       " 0,\n",
       " 0,\n",
       " 0,\n",
       " 0,\n",
       " 0,\n",
       " 0,\n",
       " 0,\n",
       " 0]"
      ]
     },
     "execution_count": 22,
     "metadata": {},
     "output_type": "execute_result"
    }
   ],
   "source": [
    "sample = list(X_train.iloc[0, :])\n",
    "sample"
   ]
  },
  {
   "cell_type": "code",
   "execution_count": 31,
   "metadata": {},
   "outputs": [],
   "source": [
    "class Predictor(object):\n",
    "    def __init__(self, artifacts):\n",
    "        import cloudpickle\n",
    "        with open(artifacts['model'], 'rb') as f:\n",
    "            self.model = cloudpickle.load(f) \n",
    "        \n",
    "    def predict(self, X):\n",
    "        return self.model.predict(X)\n",
    "        \n",
    "    def describe(self):\n",
    "        \"\"\"\n",
    "        Returns the description of the service.\n",
    "        \"\"\"\n",
    "        return {\n",
    "            'method':\n",
    "            'predict',\n",
    "            'args':\n",
    "            inputs,\n",
    "            'returns':\n",
    "            'probability,top_risk_factors',\n",
    "            'description':\n",
    "            \"\"\"\n",
    "                Predicts whether a person has >50k income based on census data.\n",
    "            \"\"\",\n",
    "            'input_description':\n",
    "            \"\"\"\n",
    "                Batch of census information, one sample per entry.\n",
    "            \"\"\",\n",
    "            'output_description':\n",
    "            \"\"\"\n",
    "                Binary classification, with 1 representing the prediction that the person earns more than 50k.\n",
    "            \"\"\"\n",
    "        }\n",
    "\n",
    "    def example(self):\n",
    "        \"\"\"\n",
    "        Returns an example input json data.\n",
    "        \"\"\"\n",
    "        return sample"
   ]
  },
  {
   "cell_type": "code",
   "execution_count": 32,
   "metadata": {},
   "outputs": [
    {
     "name": "stdout",
     "output_type": "stream",
     "text": [
      "uploading part 1\n",
      "upload complete (model)\n",
      "uploading part 1\n",
      "upload complete (custom_modules)\n",
      "uploading part 1\n",
      "upload complete (model.pkl)\n",
      "uploading part 1\n",
      "upload complete (model_api.json)\n"
     ]
    }
   ],
   "source": [
    "run.log_artifact(\"model\", model, overwrite=True)\n",
    "run.log_model(Predictor, artifacts=[\"model\"], model_api=model_api, overwrite=True)"
   ]
  },
  {
   "cell_type": "code",
   "execution_count": 26,
   "metadata": {},
   "outputs": [],
   "source": [
    "run.log_tag('deployment')"
   ]
  },
  {
   "cell_type": "code",
   "execution_count": null,
   "metadata": {},
   "outputs": [],
   "source": []
  }
 ],
 "metadata": {
  "kernelspec": {
   "display_name": "Python 3",
   "language": "python",
   "name": "python3"
  },
  "language_info": {
   "codemirror_mode": {
    "name": "ipython",
    "version": 3
   },
   "file_extension": ".py",
   "mimetype": "text/x-python",
   "name": "python",
   "nbconvert_exporter": "python",
   "pygments_lexer": "ipython3",
   "version": "3.7.7"
  }
 },
 "nbformat": 4,
 "nbformat_minor": 4
}
