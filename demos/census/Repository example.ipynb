{
 "cells": [
  {
   "cell_type": "markdown",
   "metadata": {},
   "source": [
    "# Advanced versioning for reproducibility\n",
    "This notebook shows an example using Verta repositories to manage the four ingredients of a model"
   ]
  },
  {
   "cell_type": "markdown",
   "metadata": {},
   "source": [
    "## Start the repository"
   ]
  },
  {
   "cell_type": "code",
   "execution_count": 1,
   "metadata": {},
   "outputs": [
    {
     "name": "stdout",
     "output_type": "stream",
     "text": [
      "set email from environment\n",
      "set developer key from environment\n",
      "connection successfully established\n",
      "created new Repository: Census Income - Example in personal workspace\n"
     ]
    }
   ],
   "source": [
    "from verta import Client\n",
    "from verta.dataset import Path\n",
    "from verta.configuration import Hyperparameters\n",
    "from verta.environment import Python\n",
    "from verta.code import Git\n",
    "\n",
    "VERTA_HOST = \"https://cm.dev.verta.ai\"\n",
    "\n",
    "client = Client(VERTA_HOST)\n",
    "\n",
    "repo = client.get_or_create_repository(name=\"Census Income - Example\")\n",
    "trunk = repo.get_commit().new_branch(\"trunk\")"
   ]
  },
  {
   "cell_type": "markdown",
   "metadata": {},
   "source": [
    "## Add the dataset"
   ]
  },
  {
   "cell_type": "code",
   "execution_count": 2,
   "metadata": {},
   "outputs": [
    {
     "data": {
      "text/plain": [
       "Commit 34bf087af19bd6e15f78535ac1e540e4c77e86435adcca94691fb4b1a309cb0c (Branch: trunk)\n",
       "Date: 2020-11-08 20:38:59\n",
       "\n",
       "    Create base dataset"
      ]
     },
     "execution_count": 2,
     "metadata": {},
     "output_type": "execute_result"
    }
   ],
   "source": [
    "trunk.update(\"datasets/base\", Path([\"census-train.csv\", \"census-test.csv\"])) \\\n",
    "    .save(\"Create base dataset\")"
   ]
  },
  {
   "cell_type": "markdown",
   "metadata": {},
   "source": [
    "## Add the environment"
   ]
  },
  {
   "cell_type": "code",
   "execution_count": 3,
   "metadata": {},
   "outputs": [
    {
     "name": "stdout",
     "output_type": "stream",
     "text": [
      "skipping non-PyPI-installable spaCy model \"en-core-web-sm @ https://github.com/explosion/spacy-models/releases/download/en_core_web_sm-2.3.1/en_core_web_sm-2.3.1.tar.gz\"\n",
      "skipping unsupported VCS-installed package \"-e git+git@github.com:VertaAI/modeldb.git@e73c9bf6cad4a9fdb935e23c3e152b5a24eebd95#egg=verta&subdirectory=client/verta\"\n"
     ]
    },
    {
     "data": {
      "text/plain": [
       "Commit 7371f2727691f72ef54b4358ad4f5de3bbfcec498026a14bdb419575bda9e805 (Branch: trunk)\n",
       "Date: 2020-11-08 20:39:03\n",
       "\n",
       "    Configure model environment"
      ]
     },
     "execution_count": 3,
     "metadata": {},
     "output_type": "execute_result"
    }
   ],
   "source": [
    "trunk.update(\"model/environment\", Python(\n",
    "        requirements=[\"pandas\", \"sklearn\"],\n",
    "        constraints=Python.read_pip_environment(),\n",
    "    )) \\\n",
    "    .save(\"Configure model environment\")"
   ]
  },
  {
   "cell_type": "markdown",
   "metadata": {},
   "source": [
    "## Add the hyperparameters"
   ]
  },
  {
   "cell_type": "code",
   "execution_count": 4,
   "metadata": {},
   "outputs": [
    {
     "data": {
      "text/plain": [
       "Commit bf91d0918e49baff278cc1e63f25c18869192739a73c59acfcfed10e178376c0 (Branch: trunk)\n",
       "Date: 2020-11-08 20:39:06\n",
       "\n",
       "    Create initial set of hyperparameters"
      ]
     },
     "execution_count": 4,
     "metadata": {},
     "output_type": "execute_result"
    }
   ],
   "source": [
    "trunk.update(\"model/hyperparam_set\", Hyperparameters(hyperparameter_sets={\n",
    "        'C': [1e-6, 1e-4, 1e-2, 1e0],\n",
    "        'solver': ['lbfgs'],\n",
    "        'max_iter': [10, 20, 30],\n",
    "    })) \\\n",
    "    .save(\"Create initial set of hyperparameters\")"
   ]
  },
  {
   "cell_type": "markdown",
   "metadata": {},
   "source": [
    "## Add the repository"
   ]
  },
  {
   "cell_type": "code",
   "execution_count": 5,
   "metadata": {},
   "outputs": [
    {
     "data": {
      "text/plain": [
       "Commit 41c625d4370f3c83219655e4e4b7a0a82ef2c94d17889d6cb6587b0fdf583228 (Branch: trunk)\n",
       "Date: 2020-11-08 20:39:08\n",
       "\n",
       "    Set repository for the model code"
      ]
     },
     "execution_count": 5,
     "metadata": {},
     "output_type": "execute_result"
    }
   ],
   "source": [
    "trunk.update(\"model/repo\", Git()) \\\n",
    "    .save(\"Set repository for the model code\")"
   ]
  },
  {
   "cell_type": "markdown",
   "metadata": {},
   "source": [
    "## Check the commit logs"
   ]
  },
  {
   "cell_type": "code",
   "execution_count": 6,
   "metadata": {},
   "outputs": [
    {
     "name": "stdout",
     "output_type": "stream",
     "text": [
      "Commit 41c625d4370f3c83219655e4e4b7a0a82ef2c94d17889d6cb6587b0fdf583228 (Branch: trunk)\n",
      "Date: 2020-11-08 20:39:08\n",
      "\n",
      "    Set repository for the model code\n",
      "\n",
      "Commit bf91d0918e49baff278cc1e63f25c18869192739a73c59acfcfed10e178376c0\n",
      "Date: 2020-11-08 20:39:06\n",
      "\n",
      "    Create initial set of hyperparameters\n",
      "\n",
      "Commit 7371f2727691f72ef54b4358ad4f5de3bbfcec498026a14bdb419575bda9e805\n",
      "Date: 2020-11-08 20:39:03\n",
      "\n",
      "    Configure model environment\n",
      "\n",
      "Commit 34bf087af19bd6e15f78535ac1e540e4c77e86435adcca94691fb4b1a309cb0c\n",
      "Date: 2020-11-08 20:38:59\n",
      "\n",
      "    Create base dataset\n",
      "\n",
      "Commit 45ca7c8fb371d1ff004ad3310b803dfa5c19b52576296f38621fa82e76214794\n",
      "Date: 2020-11-08 20:38:56\n",
      "\n",
      "    Initial commit\n",
      "\n"
     ]
    }
   ],
   "source": [
    "for c in trunk.log():\n",
    "    print(c)"
   ]
  },
  {
   "cell_type": "code",
   "execution_count": null,
   "metadata": {},
   "outputs": [],
   "source": []
  }
 ],
 "metadata": {
  "kernelspec": {
   "display_name": "Python 3",
   "language": "python",
   "name": "python3"
  },
  "language_info": {
   "codemirror_mode": {
    "name": "ipython",
    "version": 3
   },
   "file_extension": ".py",
   "mimetype": "text/x-python",
   "name": "python",
   "nbconvert_exporter": "python",
   "pygments_lexer": "ipython3",
   "version": "3.7.7"
  }
 },
 "nbformat": 4,
 "nbformat_minor": 4
}
