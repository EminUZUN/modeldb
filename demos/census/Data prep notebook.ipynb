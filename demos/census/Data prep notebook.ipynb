{
 "cells": [
  {
   "cell_type": "markdown",
   "metadata": {},
   "source": [
    "# Data preparation using Verta for data versioning\n",
    "This notebook shows an example of using Verta to manage input and output datasets for a data preparation step."
   ]
  },
  {
   "cell_type": "markdown",
   "metadata": {},
   "source": [
    "## Initialize Verta client"
   ]
  },
  {
   "cell_type": "code",
   "execution_count": 2,
   "metadata": {},
   "outputs": [
    {
     "name": "stdout",
     "output_type": "stream",
     "text": [
      "set email from environment\n",
      "set developer key from environment\n",
      "connection successfully established\n"
     ]
    }
   ],
   "source": [
    "from verta import Client\n",
    "from verta.utils import ModelAPI\n",
    "\n",
    "VERTA_HOST = \"https://cm.dev.verta.ai\"\n",
    "\n",
    "client = Client(VERTA_HOST)"
   ]
  },
  {
   "cell_type": "markdown",
   "metadata": {},
   "source": [
    "## Load latest version of the dataset"
   ]
  },
  {
   "cell_type": "code",
   "execution_count": 3,
   "metadata": {},
   "outputs": [
    {
     "name": "stdout",
     "output_type": "stream",
     "text": [
      "set existing Dataset: Census Income S3 from personal workspace\n",
      "got existing dataset version: d5a01a87188b0a2884466a51aa2e721a4a13d7f3629a4a8e76f92f6ebc82d8ee\n"
     ]
    }
   ],
   "source": [
    "dataset = client.get_dataset(name=\"Census Income S3\")\n",
    "dataset_version = dataset.get_latest_version()\n",
    "# dataset_version.download()"
   ]
  },
  {
   "cell_type": "markdown",
   "metadata": {},
   "source": [
    "## Perform some feature engineering\n",
    "Create a new feature based on the number of hours per week that the person works"
   ]
  },
  {
   "cell_type": "code",
   "execution_count": 14,
   "metadata": {},
   "outputs": [],
   "source": [
    "import pandas as pd\n",
    "\n",
    "output_files = []\n",
    "for type_ in [\"train\", \"test\"]:\n",
    "    df = pd.read_csv(\"census-{}.csv\".format(type_))\n",
    "    df['part-time'] = df_train['hours-per-week'] < 30\n",
    "    df['over-time'] = df_train['hours-per-week'] > 40\n",
    "    output_file = \"census-{}-processed.csv\".format(type_)\n",
    "    df.to_csv(output_file)\n",
    "    output_files.append(output_file)"
   ]
  },
  {
   "cell_type": "markdown",
   "metadata": {},
   "source": [
    "## Save the output dataset\n",
    "The dataset is saved with versioning enabled, which saves the artifacts in Verta directly for download and consumption later."
   ]
  },
  {
   "cell_type": "code",
   "execution_count": 15,
   "metadata": {},
   "outputs": [
    {
     "name": "stdout",
     "output_type": "stream",
     "text": [
      "got existing Dataset: Census Income S3 - Processed\n",
      "created new Dataset Version: 2 for Census Income S3 - Processed\n"
     ]
    }
   ],
   "source": [
    "from verta.dataset import Path\n",
    "output_dataset = client._set_dataset2(name=\"Census Income S3 - Processed\") ##\n",
    "# output_dataset = client.get_or_create_dataset(name=\"Census Income S3 - Processed\")\n",
    "output_dataset.create_version(\n",
    "    Path(\n",
    "        output_files,\n",
    "        enable_mdb_versioning=True,\n",
    "    ),\n",
    ")"
   ]
  },
  {
   "cell_type": "code",
   "execution_count": null,
   "metadata": {},
   "outputs": [],
   "source": []
  }
 ],
 "metadata": {
  "kernelspec": {
   "display_name": "Python 3",
   "language": "python",
   "name": "python3"
  },
  "language_info": {
   "codemirror_mode": {
    "name": "ipython",
    "version": 3
   },
   "file_extension": ".py",
   "mimetype": "text/x-python",
   "name": "python",
   "nbconvert_exporter": "python",
   "pygments_lexer": "ipython3",
   "version": "3.7.7"
  }
 },
 "nbformat": 4,
 "nbformat_minor": 4
}
